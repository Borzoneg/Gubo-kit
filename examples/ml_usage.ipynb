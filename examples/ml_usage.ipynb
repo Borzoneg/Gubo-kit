{
 "cells": [
  {
   "cell_type": "markdown",
   "metadata": {},
   "source": [
    "# Spaceship titanic"
   ]
  },
  {
   "cell_type": "markdown",
   "metadata": {},
   "source": [
    "## Import"
   ]
  },
  {
   "cell_type": "code",
   "execution_count": null,
   "metadata": {},
   "outputs": [],
   "source": [
    "import pandas as pd\n",
    "import numpy as np\n",
    "import os\n",
    "import matplotlib.pyplot as plt\n",
    "from sklearn import neighbors\n",
    "import torch\n",
    "from torch import nn\n",
    "import torch.nn.functional as functional\n",
    "import copy\n",
    "\n",
    "# from gudkit.ml import CustomDataset, preprocessing, see_correlation, knn_param_search, MLP, traning_mlp\n",
    "import gudkit"
   ]
  },
  {
   "cell_type": "markdown",
   "metadata": {},
   "source": [
    "## Analysis of the dataframe"
   ]
  },
  {
   "cell_type": "code",
   "execution_count": null,
   "metadata": {},
   "outputs": [],
   "source": [
    "for dirname, _, filenames in os.walk('/home/gu/ros_ws/src/kaggle-competitions/datas'):\n",
    "    for filename in filenames:\n",
    "        print(os.path.join(dirname, filename))"
   ]
  },
  {
   "cell_type": "code",
   "execution_count": null,
   "metadata": {},
   "outputs": [],
   "source": [
    "og_df = pd.read_csv(\"/home/gu/ros_ws/src/kaggle-competitions/datas/in/spaceship_titanic_train.csv\")\n",
    "og_test_df = pd.read_csv(\"/home/gu/ros_ws/src/kaggle-competitions/datas/in/spaceship_titanic_test.csv\")"
   ]
  },
  {
   "cell_type": "code",
   "execution_count": null,
   "metadata": {},
   "outputs": [],
   "source": [
    "og_df.describe()"
   ]
  },
  {
   "cell_type": "code",
   "execution_count": null,
   "metadata": {},
   "outputs": [],
   "source": [
    "og_df.info()"
   ]
  },
  {
   "cell_type": "code",
   "execution_count": null,
   "metadata": {},
   "outputs": [],
   "source": [
    "columns = [ 'Age', 'FoodCourt', 'ShoppingMall', 'Spa', 'VRDeck']\n",
    "fig, axs = plt.subplots(len(columns),1,  figsize=(10, 10))\n",
    "plt.subplots_adjust(top = 2)\n",
    "for i, ax in enumerate(axs):\n",
    "    ax.set_title(columns[i])\n",
    "    ax.hist(og_df[columns[i]], bins=50)"
   ]
  },
  {
   "cell_type": "code",
   "execution_count": null,
   "metadata": {},
   "outputs": [],
   "source": [
    "og_df.head()"
   ]
  },
  {
   "cell_type": "markdown",
   "metadata": {},
   "source": [
    "## Preprocessing"
   ]
  },
  {
   "cell_type": "code",
   "execution_count": null,
   "metadata": {},
   "outputs": [],
   "source": [
    "df = preprocessing(og_df)\n",
    "test_df = preprocessing(og_test_df)\n",
    "df.head()"
   ]
  },
  {
   "cell_type": "code",
   "execution_count": null,
   "metadata": {},
   "outputs": [],
   "source": [
    "see_correlation(df, 'Transported')"
   ]
  },
  {
   "cell_type": "markdown",
   "metadata": {},
   "source": [
    "## Preparing data for feeding to models"
   ]
  },
  {
   "cell_type": "code",
   "execution_count": null,
   "metadata": {},
   "outputs": [],
   "source": [
    "df_train, df_valid = torch.utils.data.random_split(df, [0.8, 0.2])\n",
    "dt_train = gudkit.ml.CustomDataset(df_train.dataset, 'Transported')\n",
    "dt_valid = gudkit.ml.CustomDataset(df_valid.dataset, 'Transported')\n",
    "kwargs = {'batch_size': 100, 'num_workers': 6}\n",
    "loader_train = torch.utils.data.DataLoader(dt_train, **kwargs, shuffle=True)\n",
    "loader_valid = torch.utils.data.DataLoader(dt_valid, **kwargs, shuffle=True)"
   ]
  },
  {
   "cell_type": "markdown",
   "metadata": {},
   "source": [
    "### KNN"
   ]
  },
  {
   "cell_type": "markdown",
   "metadata": {},
   "source": [
    "#### Training"
   ]
  },
  {
   "cell_type": "code",
   "execution_count": null,
   "metadata": {},
   "outputs": [],
   "source": [
    "classifier, data = gudkit.ml.knn_param_search(dt_train.xs.values, dt_train.ys.values, dt_valid.xs.values, dt_valid.ys.values)"
   ]
  },
  {
   "cell_type": "markdown",
   "metadata": {},
   "source": [
    "#### Predictions"
   ]
  },
  {
   "cell_type": "code",
   "execution_count": null,
   "metadata": {},
   "outputs": [],
   "source": [
    "X_test = test_df.values\n",
    "predictions = classifier.predict(X_test)\n",
    "og_test_df['Transported'] = predictions.astype(bool)\n",
    "result = og_test_df.iloc[:, [0, -1]]\n",
    "result.to_csv('/home/gu/ros_ws/src/kaggle-competitions/datas/out/knn_results.csv', index=False)"
   ]
  },
  {
   "cell_type": "markdown",
   "metadata": {},
   "source": [
    "### MLP"
   ]
  },
  {
   "cell_type": "code",
   "execution_count": null,
   "metadata": {},
   "outputs": [],
   "source": [
    "best_model = gudkit.ml.traning_mlp(loader_train, loader_valid)"
   ]
  },
  {
   "cell_type": "code",
   "execution_count": null,
   "metadata": {},
   "outputs": [],
   "source": [
    "model = best_model[0]\n",
    "og_test_df['Transported'] = model.predict(test_df.values)\n",
    "result = og_test_df.iloc[:, [0, -1]]\n",
    "result.to_csv('/home/gu/ros_ws/src/kaggle-competitions/datas/out/mlp_results.csv', index=False)"
   ]
  }
 ],
 "metadata": {
  "kernelspec": {
   "display_name": "Python 3",
   "language": "python",
   "name": "python3"
  },
  "language_info": {
   "codemirror_mode": {
    "name": "ipython",
    "version": 3
   },
   "file_extension": ".py",
   "mimetype": "text/x-python",
   "name": "python",
   "nbconvert_exporter": "python",
   "pygments_lexer": "ipython3",
   "version": "3.10.12"
  }
 },
 "nbformat": 4,
 "nbformat_minor": 2
}
